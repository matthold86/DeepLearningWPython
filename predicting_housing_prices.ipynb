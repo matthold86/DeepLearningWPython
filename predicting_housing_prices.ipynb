{
  "nbformat": 4,
  "nbformat_minor": 0,
  "metadata": {
    "colab": {
      "provenance": [],
      "gpuType": "T4",
      "authorship_tag": "ABX9TyNl6Q9prGJCWve6JFkiOk1x",
      "include_colab_link": true
    },
    "kernelspec": {
      "name": "python3",
      "display_name": "Python 3"
    },
    "language_info": {
      "name": "python"
    },
    "accelerator": "GPU"
  },
  "cells": [
    {
      "cell_type": "markdown",
      "metadata": {
        "id": "view-in-github",
        "colab_type": "text"
      },
      "source": [
        "<a href=\"https://colab.research.google.com/github/matthold86/DeepLearningWPython/blob/main/predicting_housing_prices.ipynb\" target=\"_parent\"><img src=\"https://colab.research.google.com/assets/colab-badge.svg\" alt=\"Open In Colab\"/></a>"
      ]
    },
    {
      "cell_type": "markdown",
      "source": [
        "# Predicting Housing Prices\n",
        "\n",
        "________________________________________________\n",
        "\n",
        "#### **Summary**\n",
        "\n",
        "This notebook will walk through an example of linear regression to predict the median home price in a Boston suburb, given parameters such as the crime rate, population density. The parameters can be continuous, ordinal, or binary. The dataset contains 550 observations.\n",
        "\n",
        "________________________________________________"
      ],
      "metadata": {
        "id": "SPQckWRgjJWv"
      }
    },
    {
      "cell_type": "markdown",
      "source": [
        "#### **Step 0: Install Packages**"
      ],
      "metadata": {
        "id": "4WDE3IeJkh9j"
      }
    },
    {
      "cell_type": "markdown",
      "source": [
        "#### **Step 1: Establish Google Drive Connection**\n",
        "This first step mounts the Colab notebook to the `/DeepLearningWPython` directory on my Google Drive. Any data required for this project (data not accessible via link or python package) will be stored in `/DeepLearningWPython` for its convenient integration with Google Colab."
      ],
      "metadata": {
        "id": "CMl9wvgrknLw"
      }
    },
    {
      "cell_type": "code",
      "source": [
        "from google.colab import drive\n",
        "drive.mount('/content/drive')"
      ],
      "metadata": {
        "colab": {
          "base_uri": "https://localhost:8080/"
        },
        "id": "x2HbtRcrkpb1",
        "outputId": "932a6be4-bc25-4b1e-f25c-a79f9582d4d9"
      },
      "execution_count": 2,
      "outputs": [
        {
          "output_type": "stream",
          "name": "stdout",
          "text": [
            "Mounted at /content/drive\n"
          ]
        }
      ]
    },
    {
      "cell_type": "code",
      "source": [
        "%cd /content/drive/MyDrive/Github/DeepLearningWPython/"
      ],
      "metadata": {
        "colab": {
          "base_uri": "https://localhost:8080/"
        },
        "id": "d10-vKNlkxVv",
        "outputId": "84fc8183-0ec2-4559-899b-a78e9ad3a635"
      },
      "execution_count": 3,
      "outputs": [
        {
          "output_type": "stream",
          "name": "stdout",
          "text": [
            "/content/drive/MyDrive/Github/DeepLearningWPython\n"
          ]
        }
      ]
    },
    {
      "cell_type": "markdown",
      "source": [
        "#### **Step 2: Prepare the Data**"
      ],
      "metadata": {
        "id": "gpXNWwcuk04B"
      }
    },
    {
      "cell_type": "code",
      "source": [
        "from keras.datasets import boston_housing\n",
        "from keras import models, layers\n",
        "import numpy as np"
      ],
      "metadata": {
        "id": "f8Bpf5E1k42h"
      },
      "execution_count": 4,
      "outputs": []
    },
    {
      "cell_type": "code",
      "source": [
        "(train_data, train_targets), (test_data, test_targets) = boston_housing.load_data()"
      ],
      "metadata": {
        "colab": {
          "base_uri": "https://localhost:8080/"
        },
        "id": "VF12_OM2lEJ7",
        "outputId": "2489e441-7d07-41e0-de72-b95dedc751cf"
      },
      "execution_count": 5,
      "outputs": [
        {
          "output_type": "stream",
          "name": "stdout",
          "text": [
            "Downloading data from https://storage.googleapis.com/tensorflow/tf-keras-datasets/boston_housing.npz\n",
            "57026/57026 [==============================] - 0s 0us/step\n"
          ]
        }
      ]
    },
    {
      "cell_type": "code",
      "source": [
        "# Normalize the values for each parameter around zero\n",
        "mean_parameters = train_data.mean(axis=0)\n",
        "std_parameters = train_data.std(axis=0)\n",
        "train_data = (train_data - mean_parameters)/std_parameters\n",
        "test_data = (test_data - mean_parameters)/std_parameters"
      ],
      "metadata": {
        "id": "dW02rqAnl9HR"
      },
      "execution_count": 6,
      "outputs": []
    },
    {
      "cell_type": "code",
      "source": [
        "train_data"
      ],
      "metadata": {
        "colab": {
          "base_uri": "https://localhost:8080/"
        },
        "id": "BRMhtRSp9eC8",
        "outputId": "33bd77e7-8b97-4c9f-b323-28ac9c591747"
      },
      "execution_count": 12,
      "outputs": [
        {
          "output_type": "execute_result",
          "data": {
            "text/plain": [
              "array([[-0.27224633, -0.48361547, -0.43576161, ...,  1.14850044,\n",
              "         0.44807713,  0.8252202 ],\n",
              "       [-0.40342651,  2.99178419, -1.33391162, ..., -1.71818909,\n",
              "         0.43190599, -1.32920239],\n",
              "       [ 0.1249402 , -0.48361547,  1.0283258 , ...,  0.78447637,\n",
              "         0.22061726, -1.30850006],\n",
              "       ...,\n",
              "       [-0.40202987,  0.99079651, -0.7415148 , ..., -0.71712291,\n",
              "         0.07943894, -0.67776904],\n",
              "       [-0.17292018, -0.48361547,  1.24588095, ..., -1.71818909,\n",
              "        -0.98764362,  0.42083466],\n",
              "       [-0.40422614,  2.04394792, -1.20161456, ..., -1.30866202,\n",
              "         0.23317118, -1.15392266]])"
            ]
          },
          "metadata": {},
          "execution_count": 12
        }
      ]
    },
    {
      "cell_type": "code",
      "source": [
        "# Create function for generating the model\n",
        "\n",
        "# No activation function is requred for final layer because this model will use multiple linear regression to predict a scalar output.\n",
        "def create_model():\n",
        "  model = models.Sequential()\n",
        "  model.add(layers.Dense(64, activation='relu', input_shape=(train_data.shape[1],)))\n",
        "  model.add(layers.Dense(64, activation='relu'))\n",
        "  model.add(layers.Dense(1))\n",
        "\n",
        "# Loss function: 'MSE' (Mean Squared Error)\n",
        "# Metrics: 'MAE' (Mean Absolute Error) Units: $Thousands\n",
        "  model.compile(\n",
        "      loss='mse',\n",
        "      optimizer='rmsprop',\n",
        "      metrics=['mae']\n",
        "  )\n",
        "  return model"
      ],
      "metadata": {
        "id": "68IG3yCJn4nV"
      },
      "execution_count": 7,
      "outputs": []
    },
    {
      "cell_type": "code",
      "source": [
        "# Prepare data for K-Fold Cross Validation\n",
        "folds = 4\n",
        "section_size = train_data.shape[0] // folds\n",
        "validation_accuracy_scores = []\n",
        "epochs = 20\n",
        "batch_size = 1\n",
        "\n",
        "for i in range(folds):\n",
        "  val_data = train_data[i*section_size:(i+1)*section_size]\n",
        "  val_targets = train_data[i*section_size:(i+1)*section_size]\n",
        "  training_data = np.concatenate(\n",
        "      (train_data[:i*section_size],\n",
        "      train_data[(i+1)*section_size:]),\n",
        "      axis = 0\n",
        "  )\n",
        "  training_targets = np.concatenate(\n",
        "      (train_targets[:i*section_size],\n",
        "      train_targets[(i+1)*section_size:]),\n",
        "      axis = 0\n",
        "  )\n",
        "  model = create_model()\n",
        "  history = model.fit(\n",
        "      training_data,\n",
        "      training_targets,\n",
        "      epochs = epochs,\n",
        "      batch_size = batch_size,\n",
        "  )\n",
        "\n",
        "  val_mse, val_mae  = model.evaluate(val_data, val_targets, verbose=0)\n",
        "  validation_accuracy_scores.append(val_mae)\n",
        "\n",
        "print(validation_accuracy_scores)\n",
        "\n",
        "\n"
      ],
      "metadata": {
        "colab": {
          "base_uri": "https://localhost:8080/"
        },
        "id": "OJc11RxiseKA",
        "outputId": "e658998b-d892-4917-f5b4-c2ac39b7f899"
      },
      "execution_count": 11,
      "outputs": [
        {
          "output_type": "stream",
          "name": "stdout",
          "text": [
            "Epoch 1/20\n",
            "303/303 [==============================] - 2s 3ms/step - loss: 188.2908 - mae: 10.3106\n",
            "Epoch 2/20\n",
            "303/303 [==============================] - 1s 2ms/step - loss: 26.2229 - mae: 3.6350\n",
            "Epoch 3/20\n",
            "303/303 [==============================] - 1s 3ms/step - loss: 19.6872 - mae: 3.0481\n",
            "Epoch 4/20\n",
            "303/303 [==============================] - 1s 3ms/step - loss: 17.1510 - mae: 2.7886\n",
            "Epoch 5/20\n",
            "303/303 [==============================] - 1s 3ms/step - loss: 14.7104 - mae: 2.5944\n",
            "Epoch 6/20\n",
            "303/303 [==============================] - 1s 3ms/step - loss: 13.7805 - mae: 2.5544\n",
            "Epoch 7/20\n",
            "303/303 [==============================] - 1s 3ms/step - loss: 13.1105 - mae: 2.4434\n",
            "Epoch 8/20\n",
            "303/303 [==============================] - 1s 3ms/step - loss: 12.5410 - mae: 2.4093\n",
            "Epoch 9/20\n",
            "303/303 [==============================] - 1s 2ms/step - loss: 12.0151 - mae: 2.3649\n",
            "Epoch 10/20\n",
            "303/303 [==============================] - 1s 2ms/step - loss: 11.5748 - mae: 2.2911\n",
            "Epoch 11/20\n",
            "303/303 [==============================] - 1s 2ms/step - loss: 10.6831 - mae: 2.2658\n",
            "Epoch 12/20\n",
            "303/303 [==============================] - 1s 2ms/step - loss: 10.8342 - mae: 2.2725\n",
            "Epoch 13/20\n",
            "303/303 [==============================] - 1s 2ms/step - loss: 10.9668 - mae: 2.2677\n",
            "Epoch 14/20\n",
            "303/303 [==============================] - 1s 2ms/step - loss: 10.0380 - mae: 2.1357\n",
            "Epoch 15/20\n",
            "303/303 [==============================] - 1s 2ms/step - loss: 10.7693 - mae: 2.1566\n",
            "Epoch 16/20\n",
            "303/303 [==============================] - 1s 2ms/step - loss: 10.5729 - mae: 2.1712\n",
            "Epoch 17/20\n",
            "303/303 [==============================] - 1s 2ms/step - loss: 10.1215 - mae: 2.1241\n",
            "Epoch 18/20\n",
            "303/303 [==============================] - 1s 2ms/step - loss: 10.1951 - mae: 2.1267\n",
            "Epoch 19/20\n",
            "303/303 [==============================] - 1s 2ms/step - loss: 9.4229 - mae: 2.0355\n",
            "Epoch 20/20\n",
            "303/303 [==============================] - 1s 2ms/step - loss: 9.6343 - mae: 2.0904\n",
            "Epoch 1/20\n",
            "303/303 [==============================] - 2s 3ms/step - loss: 200.0417 - mae: 10.3194\n",
            "Epoch 2/20\n",
            "303/303 [==============================] - 1s 3ms/step - loss: 32.1645 - mae: 3.6897\n",
            "Epoch 3/20\n",
            "303/303 [==============================] - 1s 3ms/step - loss: 21.2676 - mae: 2.9211\n",
            "Epoch 4/20\n",
            "303/303 [==============================] - 1s 3ms/step - loss: 17.4003 - mae: 2.6347\n",
            "Epoch 5/20\n",
            "303/303 [==============================] - 1s 3ms/step - loss: 15.1593 - mae: 2.6154\n",
            "Epoch 6/20\n",
            "303/303 [==============================] - 1s 3ms/step - loss: 14.1023 - mae: 2.4460\n",
            "Epoch 7/20\n",
            "303/303 [==============================] - 1s 2ms/step - loss: 13.1021 - mae: 2.3717\n",
            "Epoch 8/20\n",
            "303/303 [==============================] - 1s 3ms/step - loss: 12.6522 - mae: 2.2860\n",
            "Epoch 9/20\n",
            "303/303 [==============================] - 1s 2ms/step - loss: 12.0522 - mae: 2.1969\n",
            "Epoch 10/20\n",
            "303/303 [==============================] - 1s 2ms/step - loss: 11.6512 - mae: 2.2888\n",
            "Epoch 11/20\n",
            "303/303 [==============================] - 1s 2ms/step - loss: 11.5787 - mae: 2.2100\n",
            "Epoch 12/20\n",
            "303/303 [==============================] - 1s 2ms/step - loss: 10.7363 - mae: 2.1421\n",
            "Epoch 13/20\n",
            "303/303 [==============================] - 1s 2ms/step - loss: 10.4653 - mae: 2.1494\n",
            "Epoch 14/20\n",
            "303/303 [==============================] - 1s 3ms/step - loss: 10.8752 - mae: 2.1582\n",
            "Epoch 15/20\n",
            "303/303 [==============================] - 1s 2ms/step - loss: 9.8725 - mae: 2.0714\n",
            "Epoch 16/20\n",
            "303/303 [==============================] - 1s 2ms/step - loss: 9.9092 - mae: 2.0938\n",
            "Epoch 17/20\n",
            "303/303 [==============================] - 1s 2ms/step - loss: 9.7200 - mae: 2.0310\n",
            "Epoch 18/20\n",
            "303/303 [==============================] - 1s 3ms/step - loss: 9.8545 - mae: 2.0199\n",
            "Epoch 19/20\n",
            "303/303 [==============================] - 1s 3ms/step - loss: 9.5256 - mae: 2.0400\n",
            "Epoch 20/20\n",
            "303/303 [==============================] - 1s 3ms/step - loss: 9.0487 - mae: 2.0214\n",
            "Epoch 1/20\n",
            "303/303 [==============================] - 2s 3ms/step - loss: 221.0875 - mae: 11.3545\n",
            "Epoch 2/20\n",
            "303/303 [==============================] - 1s 2ms/step - loss: 30.0195 - mae: 3.9162\n",
            "Epoch 3/20\n",
            "303/303 [==============================] - 1s 2ms/step - loss: 21.1312 - mae: 3.1722\n",
            "Epoch 4/20\n",
            "303/303 [==============================] - 1s 2ms/step - loss: 16.1001 - mae: 2.8019\n",
            "Epoch 5/20\n",
            "303/303 [==============================] - 1s 2ms/step - loss: 14.0131 - mae: 2.5354\n",
            "Epoch 6/20\n",
            "303/303 [==============================] - 1s 2ms/step - loss: 12.6571 - mae: 2.4506\n",
            "Epoch 7/20\n",
            "303/303 [==============================] - 1s 2ms/step - loss: 12.0188 - mae: 2.4108\n",
            "Epoch 8/20\n",
            "303/303 [==============================] - 1s 2ms/step - loss: 10.3011 - mae: 2.2982\n",
            "Epoch 9/20\n",
            "303/303 [==============================] - 1s 2ms/step - loss: 10.8776 - mae: 2.3219\n",
            "Epoch 10/20\n",
            "303/303 [==============================] - 1s 2ms/step - loss: 9.9595 - mae: 2.1320\n",
            "Epoch 11/20\n",
            "303/303 [==============================] - 1s 2ms/step - loss: 10.3782 - mae: 2.1688\n",
            "Epoch 12/20\n",
            "303/303 [==============================] - 1s 2ms/step - loss: 8.4567 - mae: 2.1138\n",
            "Epoch 13/20\n",
            "303/303 [==============================] - 1s 2ms/step - loss: 9.1502 - mae: 2.0666\n",
            "Epoch 14/20\n",
            "303/303 [==============================] - 1s 3ms/step - loss: 9.0792 - mae: 2.0478\n",
            "Epoch 15/20\n",
            "303/303 [==============================] - 1s 3ms/step - loss: 9.1008 - mae: 2.0354\n",
            "Epoch 16/20\n",
            "303/303 [==============================] - 1s 3ms/step - loss: 8.7327 - mae: 2.0118\n",
            "Epoch 17/20\n",
            "303/303 [==============================] - 1s 3ms/step - loss: 8.0309 - mae: 1.9420\n",
            "Epoch 18/20\n",
            "303/303 [==============================] - 1s 3ms/step - loss: 8.3974 - mae: 1.9573\n",
            "Epoch 19/20\n",
            "303/303 [==============================] - 1s 3ms/step - loss: 8.2331 - mae: 1.9336\n",
            "Epoch 20/20\n",
            "303/303 [==============================] - 1s 2ms/step - loss: 7.8255 - mae: 1.8832\n",
            "Epoch 1/20\n",
            "303/303 [==============================] - 1s 3ms/step - loss: 184.4696 - mae: 10.2061\n",
            "Epoch 2/20\n",
            "303/303 [==============================] - 1s 3ms/step - loss: 25.7121 - mae: 3.4738\n",
            "Epoch 3/20\n",
            "303/303 [==============================] - 1s 2ms/step - loss: 18.3138 - mae: 2.9114\n",
            "Epoch 4/20\n",
            "303/303 [==============================] - 1s 4ms/step - loss: 15.4450 - mae: 2.4863\n",
            "Epoch 5/20\n",
            "303/303 [==============================] - 1s 3ms/step - loss: 13.5985 - mae: 2.4222\n",
            "Epoch 6/20\n",
            "303/303 [==============================] - 1s 2ms/step - loss: 12.8660 - mae: 2.4197\n",
            "Epoch 7/20\n",
            "303/303 [==============================] - 1s 2ms/step - loss: 11.7868 - mae: 2.3136\n",
            "Epoch 8/20\n",
            "303/303 [==============================] - 1s 2ms/step - loss: 11.4005 - mae: 2.2097\n",
            "Epoch 9/20\n",
            "303/303 [==============================] - 1s 2ms/step - loss: 11.0530 - mae: 2.1519\n",
            "Epoch 10/20\n",
            "303/303 [==============================] - 1s 3ms/step - loss: 10.3946 - mae: 2.0988\n",
            "Epoch 11/20\n",
            "303/303 [==============================] - 1s 3ms/step - loss: 10.1199 - mae: 2.1478\n",
            "Epoch 12/20\n",
            "303/303 [==============================] - 1s 3ms/step - loss: 9.7288 - mae: 2.0690\n",
            "Epoch 13/20\n",
            "303/303 [==============================] - 1s 3ms/step - loss: 9.4718 - mae: 2.0477\n",
            "Epoch 14/20\n",
            "303/303 [==============================] - 1s 3ms/step - loss: 9.4471 - mae: 2.0071\n",
            "Epoch 15/20\n",
            "303/303 [==============================] - 1s 3ms/step - loss: 9.2034 - mae: 1.9994\n",
            "Epoch 16/20\n",
            "303/303 [==============================] - 1s 3ms/step - loss: 9.0315 - mae: 1.9946\n",
            "Epoch 17/20\n",
            "303/303 [==============================] - 1s 2ms/step - loss: 8.6151 - mae: 1.9333\n",
            "Epoch 18/20\n",
            "303/303 [==============================] - 1s 3ms/step - loss: 8.6538 - mae: 1.9692\n",
            "Epoch 19/20\n",
            "303/303 [==============================] - 1s 3ms/step - loss: 8.9030 - mae: 1.9290\n",
            "Epoch 20/20\n",
            "303/303 [==============================] - 1s 3ms/step - loss: 8.6384 - mae: 1.8827\n",
            "[22.199867248535156, 21.47556495666504, 21.179922103881836, 22.706579208374023]\n"
          ]
        }
      ]
    },
    {
      "cell_type": "code",
      "source": [],
      "metadata": {
        "colab": {
          "base_uri": "https://localhost:8080/"
        },
        "id": "oM3Tav0qtMyz",
        "outputId": "56f44a37-213e-4583-acbd-b92bf0d9e8f2"
      },
      "execution_count": 33,
      "outputs": [
        {
          "output_type": "execute_result",
          "data": {
            "text/plain": [
              "303"
            ]
          },
          "metadata": {},
          "execution_count": 33
        }
      ]
    }
  ]
}