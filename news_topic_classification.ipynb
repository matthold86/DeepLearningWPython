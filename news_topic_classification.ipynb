{
  "nbformat": 4,
  "nbformat_minor": 0,
  "metadata": {
    "colab": {
      "provenance": [],
      "authorship_tag": "ABX9TyMcE2gsIWPPLyK98ebbKKJJ",
      "include_colab_link": true
    },
    "kernelspec": {
      "name": "python3",
      "display_name": "Python 3"
    },
    "language_info": {
      "name": "python"
    }
  },
  "cells": [
    {
      "cell_type": "markdown",
      "metadata": {
        "id": "view-in-github",
        "colab_type": "text"
      },
      "source": [
        "<a href=\"https://colab.research.google.com/github/matthold86/DeepLearningWPython/blob/main/news_topic_classification.ipynb\" target=\"_parent\"><img src=\"https://colab.research.google.com/assets/colab-badge.svg\" alt=\"Open In Colab\"/></a>"
      ]
    },
    {
      "cell_type": "markdown",
      "source": [
        "# **News Article Topic Classification**\n",
        "\n",
        "__________________________________________________\n",
        "\n",
        "#### **Summary**\n",
        "\n",
        "This notebook walks through a single-label, multi-class classification neural network using a dataset of Reuters news articles provided by the Keras package. The model will be trained to label a particular article into one of 47 different categories.\n",
        "\n",
        "__________________________________________________"
      ],
      "metadata": {
        "id": "1jAccL_HscNy"
      }
    },
    {
      "cell_type": "code",
      "source": [],
      "metadata": {
        "id": "KYKWNa49GTsO"
      },
      "execution_count": null,
      "outputs": []
    }
  ]
}