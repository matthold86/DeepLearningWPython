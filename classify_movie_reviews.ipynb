{
  "nbformat": 4,
  "nbformat_minor": 0,
  "metadata": {
    "colab": {
      "provenance": [],
      "authorship_tag": "ABX9TyPQRv6F3s03QhjRAFk+6VBj",
      "include_colab_link": true
    },
    "kernelspec": {
      "name": "python3",
      "display_name": "Python 3"
    },
    "language_info": {
      "name": "python"
    }
  },
  "cells": [
    {
      "cell_type": "markdown",
      "metadata": {
        "id": "view-in-github",
        "colab_type": "text"
      },
      "source": [
        "<a href=\"https://colab.research.google.com/github/matthold86/DeepLearningWPython/blob/main/classify_movie_reviews.ipynb\" target=\"_parent\"><img src=\"https://colab.research.google.com/assets/colab-badge.svg\" alt=\"Open In Colab\"/></a>"
      ]
    },
    {
      "cell_type": "code",
      "source": [
        "from google.colab import drive\n",
        "drive.mount('/content/drive')"
      ],
      "metadata": {
        "colab": {
          "base_uri": "https://localhost:8080/"
        },
        "id": "sUPR2sVJAF9S",
        "outputId": "909e2a0b-510b-4602-9b00-fce4b351c5a6"
      },
      "execution_count": 3,
      "outputs": [
        {
          "output_type": "stream",
          "name": "stdout",
          "text": [
            "Mounted at /content/drive\n"
          ]
        }
      ]
    },
    {
      "cell_type": "code",
      "execution_count": 11,
      "metadata": {
        "colab": {
          "base_uri": "https://localhost:8080/"
        },
        "id": "b0OeBMvJ9xoz",
        "outputId": "f4647083-4164-4ec5-db91-0abe0e5fc0f7"
      },
      "outputs": [
        {
          "output_type": "stream",
          "name": "stdout",
          "text": [
            "/content/drive/MyDrive/Github/DeepLearningWPython\n"
          ]
        }
      ],
      "source": [
        "%cd /content/drive/MyDrive/Github/DeepLearningWPython/"
      ]
    },
    {
      "cell_type": "code",
      "source": [
        "import pandas as pd"
      ],
      "metadata": {
        "id": "qJSs4APtDDa5"
      },
      "execution_count": 8,
      "outputs": []
    },
    {
      "cell_type": "code",
      "source": [
        "data = pd.read_csv(\"fips_ohio.csv\")"
      ],
      "metadata": {
        "id": "x4ReATTDGHZr"
      },
      "execution_count": 12,
      "outputs": []
    },
    {
      "cell_type": "code",
      "source": [
        "print(data)"
      ],
      "metadata": {
        "colab": {
          "base_uri": "https://localhost:8080/"
        },
        "id": "2mxg-2hjGxdh",
        "outputId": "eaf2a5b8-a4cd-4633-c9d0-5b9b0c05a2fa"
      },
      "execution_count": 13,
      "outputs": [
        {
          "output_type": "stream",
          "name": "stdout",
          "text": [
            "    39000               Ohio\n",
            "0   39001       Adams County\n",
            "1   39003       Allen County\n",
            "2   39005     Ashland County\n",
            "3   39007   Ashtabula County\n",
            "4   39009      Athens County\n",
            "..    ...                ...\n",
            "83  39167  Washington County\n",
            "84  39169       Wayne County\n",
            "85  39171    Williams County\n",
            "86  39173        Wood County\n",
            "87  39175     Wyandot County\n",
            "\n",
            "[88 rows x 2 columns]\n"
          ]
        }
      ]
    }
  ]
}