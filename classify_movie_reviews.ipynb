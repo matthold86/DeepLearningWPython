{
  "nbformat": 4,
  "nbformat_minor": 0,
  "metadata": {
    "colab": {
      "provenance": [],
      "gpuType": "T4",
      "authorship_tag": "ABX9TyPuQdJbPI7xWFkiNjDRpfUf",
      "include_colab_link": true
    },
    "kernelspec": {
      "name": "python3",
      "display_name": "Python 3"
    },
    "language_info": {
      "name": "python"
    }
  },
  "cells": [
    {
      "cell_type": "markdown",
      "metadata": {
        "id": "view-in-github",
        "colab_type": "text"
      },
      "source": [
        "<a href=\"https://colab.research.google.com/github/matthold86/DeepLearningWPython/blob/main/classify_movie_reviews.ipynb\" target=\"_parent\"><img src=\"https://colab.research.google.com/assets/colab-badge.svg\" alt=\"Open In Colab\"/></a>"
      ]
    },
    {
      "cell_type": "markdown",
      "source": [
        "# **Binary Classification Neural Network**\n",
        "\n",
        "____________________________________\n",
        "\n",
        "#### **Summary**\n",
        "\n",
        "This Notebook walks through an example of a sentiment analysis binary classification neural network using Keras built-in IMDB dataset.\n",
        "\n",
        "The model will be trained to discern between a positive movie review and a negative movie review.\n",
        "\n",
        "____________________________________"
      ],
      "metadata": {
        "id": "ZU1p_F0qe-1G"
      }
    },
    {
      "cell_type": "markdown",
      "source": [
        "#### **Step 01: Establish Google Drive Connection**\n",
        "This first step mounts the Colab notebook to the `/DeepLearningWPython` directory on my Google Drive. Any data required for this project will be stored in `/DeepLearningWPython` for its convenient integration with Google Colab."
      ],
      "metadata": {
        "id": "w1BeRqQ6f6A-"
      }
    },
    {
      "cell_type": "code",
      "source": [
        "from google.colab import drive\n",
        "drive.mount('/content/drive')"
      ],
      "metadata": {
        "colab": {
          "base_uri": "https://localhost:8080/"
        },
        "id": "sUPR2sVJAF9S",
        "outputId": "dec0a669-36fc-43d7-b8bf-1ea4d1bb6cc8"
      },
      "execution_count": 1,
      "outputs": [
        {
          "output_type": "stream",
          "name": "stdout",
          "text": [
            "Mounted at /content/drive\n"
          ]
        }
      ]
    },
    {
      "cell_type": "code",
      "execution_count": 2,
      "metadata": {
        "colab": {
          "base_uri": "https://localhost:8080/"
        },
        "id": "b0OeBMvJ9xoz",
        "outputId": "698ecf2d-9dd7-47e9-bcac-48ba5de8167c"
      },
      "outputs": [
        {
          "output_type": "stream",
          "name": "stdout",
          "text": [
            "/content/drive/MyDrive/Github/DeepLearningWPython\n"
          ]
        }
      ],
      "source": [
        "%cd /content/drive/MyDrive/Github/DeepLearningWPython/"
      ]
    },
    {
      "cell_type": "markdown",
      "source": [
        "#### **Step 2: Preparing the Data**"
      ],
      "metadata": {
        "id": "xSklzxFRm5Ds"
      }
    },
    {
      "cell_type": "code",
      "source": [
        "from keras.datasets import imdb\n",
        "import numpy as np"
      ],
      "metadata": {
        "id": "dlQGJOYdnqqV"
      },
      "execution_count": 3,
      "outputs": []
    },
    {
      "cell_type": "code",
      "source": [
        "from keras import models\n",
        "from keras import layers"
      ],
      "metadata": {
        "id": "F06uBPi8Evs5"
      },
      "execution_count": 24,
      "outputs": []
    },
    {
      "cell_type": "code",
      "source": [
        "# Load the training data and testing data\n",
        "(train_data, train_labels), (test_data, test_labels) = imdb.load_data(num_words=10000)"
      ],
      "metadata": {
        "colab": {
          "base_uri": "https://localhost:8080/"
        },
        "id": "bD0V0BQqoDia",
        "outputId": "68fcbc40-cb95-4114-f654-e9cb8bef6f09"
      },
      "execution_count": 4,
      "outputs": [
        {
          "output_type": "stream",
          "name": "stdout",
          "text": [
            "Downloading data from https://storage.googleapis.com/tensorflow/tf-keras-datasets/imdb.npz\n",
            "17464789/17464789 [==============================] - 0s 0us/step\n"
          ]
        }
      ]
    },
    {
      "cell_type": "code",
      "source": [
        "# Retrieve the word index\n",
        "word_index = imdb.get_word_index()\n",
        "\n",
        "# Create dictionary that reverses the dictionary word indices: (word, index)\n",
        "reverse_index = dict(\n",
        "    [(value, key) for (key, value) in word_index.items()]\n",
        ")\n",
        "\n",
        "# Dictionary mapping of word index integers to words via the vocabulary\n",
        "first_review = \" \".join([reverse_index.get(i-3, '?') for i in train_data[0]])\n"
      ],
      "metadata": {
        "colab": {
          "base_uri": "https://localhost:8080/"
        },
        "id": "pb115-QTpt_w",
        "outputId": "9fd4b2c2-f374-4803-a79d-bac29781fd03"
      },
      "execution_count": 5,
      "outputs": [
        {
          "output_type": "stream",
          "name": "stdout",
          "text": [
            "Downloading data from https://storage.googleapis.com/tensorflow/tf-keras-datasets/imdb_word_index.json\n",
            "1641221/1641221 [==============================] - 0s 0us/step\n"
          ]
        }
      ]
    },
    {
      "cell_type": "code",
      "source": [
        "def one_hot(documents, vocab_length=10000):\n",
        "  encoded_documents = np.zeros((len(documents), vocab_length))\n",
        "  for i in range(len(documents)):\n",
        "    for ind in documents[i]:\n",
        "      encoded_documents[i, ind] = 1\n",
        "  return encoded_documents"
      ],
      "metadata": {
        "id": "EhEPOmk9sy1y"
      },
      "execution_count": 13,
      "outputs": []
    },
    {
      "cell_type": "code",
      "source": [
        "# One-Hot encode each *document* - not each word 2D tensor (25000, 10000)\n",
        "x_train = one_hot(train_data, 10000)\n",
        "x_test = one_hot(test_data, 10000)"
      ],
      "metadata": {
        "id": "nyEohsi3zYIH"
      },
      "execution_count": 18,
      "outputs": []
    },
    {
      "cell_type": "code",
      "source": [
        "# Vectorize the labels - 1D tensor (25000,)\n",
        "y_train = np.asarray(train_labels).astype('float32')\n",
        "y_test = np.asarray(test_labels).astype('float32')"
      ],
      "metadata": {
        "id": "GCs8Ej9o9wfa"
      },
      "execution_count": 21,
      "outputs": []
    },
    {
      "cell_type": "code",
      "source": [
        "x_validation = x_train[:10000]\n",
        "y_validation = y_train[:10000]\n",
        "x_train_final = x_train[10000:]\n",
        "y_train_final = y_train[10000:]"
      ],
      "metadata": {
        "id": "83vtoUcgGBGr"
      },
      "execution_count": 36,
      "outputs": []
    },
    {
      "cell_type": "markdown",
      "source": [
        "#### **Step 3: Preparing the Model**"
      ],
      "metadata": {
        "id": "Prb3XQE-PaYQ"
      }
    },
    {
      "cell_type": "code",
      "source": [
        "# Define the model with 3 fully connected layers and a binary probability output (sigmoid function)\n",
        "model = models.Sequential()\n",
        "model.add(layers.Dense(16, activation='relu', input_shape=(10000,)))\n",
        "model.add(layers.Dense(16, activation='relu'))\n",
        "model.add(layers.Dense(1, activation='sigmoid'))"
      ],
      "metadata": {
        "id": "BZ0V4e1L-iXk"
      },
      "execution_count": 34,
      "outputs": []
    },
    {
      "cell_type": "code",
      "source": [
        "# Crossentropy compares the sigmoid output probability distribution to the actual binary classification distribution\n",
        "model.compile(\n",
        "    optimizer='rmsprop',\n",
        "    loss='binary_crossentropy',\n",
        "    metrics=['accuracy']\n",
        ")"
      ],
      "metadata": {
        "id": "ctBPj8kWF1F1"
      },
      "execution_count": 35,
      "outputs": []
    },
    {
      "cell_type": "markdown",
      "source": [
        "#### **Step 4: Train the Model**\n",
        "\n",
        "The number of epochs is arbitrarily chosen to be 20 at first, but the validation loss and validation accuracy will determine if model begins to overfit to the training data and early stoppage is needed."
      ],
      "metadata": {
        "id": "rRGlmGHDPhd0"
      }
    },
    {
      "cell_type": "code",
      "source": [
        "history = model.fit(x_train_final,\n",
        "                    y_train_final,\n",
        "                    epochs = 20,\n",
        "                    batch_size = 512,\n",
        "                    validation_data = (x_validation, y_validation)\n",
        "                    )"
      ],
      "metadata": {
        "colab": {
          "base_uri": "https://localhost:8080/"
        },
        "id": "flp_s1D6LBuF",
        "outputId": "47f1d196-0981-4ec0-8b76-620abc0853f7"
      },
      "execution_count": 38,
      "outputs": [
        {
          "output_type": "stream",
          "name": "stdout",
          "text": [
            "Epoch 1/20\n",
            "30/30 [==============================] - 2s 67ms/step - loss: 0.1741 - accuracy: 0.9421 - val_loss: 0.2884 - val_accuracy: 0.8830\n",
            "Epoch 2/20\n",
            "30/30 [==============================] - 1s 35ms/step - loss: 0.1470 - accuracy: 0.9542 - val_loss: 0.2809 - val_accuracy: 0.8885\n",
            "Epoch 3/20\n",
            "30/30 [==============================] - 1s 34ms/step - loss: 0.1284 - accuracy: 0.9589 - val_loss: 0.2901 - val_accuracy: 0.8863\n",
            "Epoch 4/20\n",
            "30/30 [==============================] - 1s 38ms/step - loss: 0.1098 - accuracy: 0.9674 - val_loss: 0.3028 - val_accuracy: 0.8836\n",
            "Epoch 5/20\n",
            "30/30 [==============================] - 1s 45ms/step - loss: 0.0957 - accuracy: 0.9728 - val_loss: 0.3170 - val_accuracy: 0.8822\n",
            "Epoch 6/20\n",
            "30/30 [==============================] - 2s 58ms/step - loss: 0.0822 - accuracy: 0.9777 - val_loss: 0.3456 - val_accuracy: 0.8811\n",
            "Epoch 7/20\n",
            "30/30 [==============================] - 2s 55ms/step - loss: 0.0730 - accuracy: 0.9799 - val_loss: 0.3885 - val_accuracy: 0.8728\n",
            "Epoch 8/20\n",
            "30/30 [==============================] - 2s 76ms/step - loss: 0.0615 - accuracy: 0.9858 - val_loss: 0.3666 - val_accuracy: 0.8784\n",
            "Epoch 9/20\n",
            "30/30 [==============================] - 3s 89ms/step - loss: 0.0529 - accuracy: 0.9883 - val_loss: 0.3948 - val_accuracy: 0.8778\n",
            "Epoch 10/20\n",
            "30/30 [==============================] - 2s 64ms/step - loss: 0.0451 - accuracy: 0.9906 - val_loss: 0.4420 - val_accuracy: 0.8737\n",
            "Epoch 11/20\n",
            "30/30 [==============================] - 1s 35ms/step - loss: 0.0381 - accuracy: 0.9926 - val_loss: 0.4321 - val_accuracy: 0.8745\n",
            "Epoch 12/20\n",
            "30/30 [==============================] - 1s 39ms/step - loss: 0.0329 - accuracy: 0.9947 - val_loss: 0.4662 - val_accuracy: 0.8687\n",
            "Epoch 13/20\n",
            "30/30 [==============================] - 2s 79ms/step - loss: 0.0296 - accuracy: 0.9945 - val_loss: 0.4757 - val_accuracy: 0.8732\n",
            "Epoch 14/20\n",
            "30/30 [==============================] - 2s 51ms/step - loss: 0.0240 - accuracy: 0.9966 - val_loss: 0.4960 - val_accuracy: 0.8733\n",
            "Epoch 15/20\n",
            "30/30 [==============================] - 2s 71ms/step - loss: 0.0184 - accuracy: 0.9981 - val_loss: 0.5219 - val_accuracy: 0.8717\n",
            "Epoch 16/20\n",
            "30/30 [==============================] - 2s 58ms/step - loss: 0.0182 - accuracy: 0.9975 - val_loss: 0.5402 - val_accuracy: 0.8709\n",
            "Epoch 17/20\n",
            "30/30 [==============================] - 2s 60ms/step - loss: 0.0184 - accuracy: 0.9960 - val_loss: 0.5606 - val_accuracy: 0.8699\n",
            "Epoch 18/20\n",
            "30/30 [==============================] - 2s 75ms/step - loss: 0.0123 - accuracy: 0.9984 - val_loss: 0.5762 - val_accuracy: 0.8702\n",
            "Epoch 19/20\n",
            "30/30 [==============================] - 2s 78ms/step - loss: 0.0078 - accuracy: 0.9996 - val_loss: 0.6070 - val_accuracy: 0.8667\n",
            "Epoch 20/20\n",
            "30/30 [==============================] - 2s 56ms/step - loss: 0.0090 - accuracy: 0.9993 - val_loss: 0.6278 - val_accuracy: 0.8705\n"
          ]
        }
      ]
    },
    {
      "cell_type": "markdown",
      "source": [
        "#### **Step 5: Plot the Loss and Accuracy (Training and Validation)**\n",
        "\n",
        "From the plots below, we see that the training loss continued to decrease with every epoch which is to be expected when using gradient descent optimization. However, the validation loss reached a minimum after 4-6 epochs before rising, indicating the the model overfit the training data starting at the 5th epoch. The validation accuracy also reached a maximum around the 5th epoch reinforcing the overfitting conclusion. The model will be rerun with only 5 epochs in Step 6."
      ],
      "metadata": {
        "id": "sCsAsxVrPK5m"
      }
    },
    {
      "cell_type": "code",
      "source": [
        "import matplotlib.pyplot as plt\n",
        "history_dict = history.history\n",
        "loss_values = history_dict['loss']\n",
        "val_loss_values = history_dict['val_loss']\n",
        "\n",
        "epochs = range(1,len(loss_values) + 1)\n",
        "\n",
        "plt.plot(epochs, loss_values, 'ro', label = 'Training Loss')\n",
        "plt.plot(epochs, val_loss_values, 'b', label = 'Validation Loss')\n",
        "plt.title('Training and Validation Loss')\n",
        "plt.xlabel('Epochs')\n",
        "plt.ylabel('Loss')\n",
        "plt.legend()\n",
        "\n",
        "plt.show()"
      ],
      "metadata": {
        "colab": {
          "base_uri": "https://localhost:8080/",
          "height": 472
        },
        "id": "PcTChCu7L9wp",
        "outputId": "e7d8df18-6d08-47a7-d0ce-b3010a00f26a"
      },
      "execution_count": 30,
      "outputs": [
        {
          "output_type": "display_data",
          "data": {
            "text/plain": [
              "<Figure size 640x480 with 1 Axes>"
            ],
            "image/png": "[encoded data removed]"
          },
          "metadata": {}
        }
      ]
    },
    {
      "cell_type": "code",
      "source": [
        "history_dict = history.history\n",
        "accuracy = history_dict['accuracy']\n",
        "val_accuracy = history_dict['val_accuracy']\n",
        "\n",
        "epochs = range(1, len(accuracy) + 1)\n",
        "\n",
        "plt.plot(epochs, accuracy, 'ro', label = 'Training Accuracy')\n",
        "plt.plot(epochs, val_accuracy, 'b', label = 'Validation Accuracy')\n",
        "plt.title('Training and Validation Accuracy')\n",
        "plt.xlabel('Epochs')\n",
        "plt.ylabel('Accuracy')\n",
        "plt.legend()\n",
        "\n",
        "plt.show()"
      ],
      "metadata": {
        "colab": {
          "base_uri": "https://localhost:8080/",
          "height": 472
        },
        "id": "u-QMxXZ5NNZ7",
        "outputId": "6284272f-ea70-4c9a-dca1-dc4c8564e345"
      },
      "execution_count": 32,
      "outputs": [
        {
          "output_type": "display_data",
          "data": {
            "text/plain": [
              "<Figure size 640x480 with 1 Axes>"
            ],
            "image/png": "[encoded data removed]"
          },
          "metadata": {}
        }
      ]
    },
    {
      "cell_type": "markdown",
      "source": [
        "#### **Step 6: Modify Model**\n",
        "\n",
        "After evaluating the validation loss and accuracy the model will be re-created with only 5 epochs"
      ],
      "metadata": {
        "id": "57OVro9_RkhM"
      }
    },
    {
      "cell_type": "code",
      "source": [
        "model = models.Sequential()\n",
        "model.add(layers.Dense(16, activation='relu', input_shape=(10000,)))\n",
        "model.add(layers.Dense(16, activation='relu'))\n",
        "model.add(layers.Dense(1, activation='sigmoid'))\n",
        "\n",
        "model.compile(\n",
        "    loss='binary_crossentropy',\n",
        "    optimizer='rmsprop',\n",
        "    metrics=['accuracy']\n",
        ")\n",
        "\n",
        "history = model.fit(\n",
        "    x_train_final,\n",
        "    y_train_final,\n",
        "    epochs = 5,\n",
        "    batch_size = 512,\n",
        "    validation_data = (x_validation, y_validation)\n",
        ")"
      ],
      "metadata": {
        "colab": {
          "base_uri": "https://localhost:8080/"
        },
        "id": "S0PhuxuER1Jm",
        "outputId": "92255d92-74f0-4267-db3f-462a7856c55a"
      },
      "execution_count": 39,
      "outputs": [
        {
          "output_type": "stream",
          "name": "stdout",
          "text": [
            "Epoch 1/5\n",
            "30/30 [==============================] - 10s 267ms/step - loss: 0.5208 - accuracy: 0.7894 - val_loss: 0.3986 - val_accuracy: 0.8639\n",
            "Epoch 2/5\n",
            "30/30 [==============================] - 1s 34ms/step - loss: 0.3250 - accuracy: 0.8937 - val_loss: 0.3142 - val_accuracy: 0.8827\n",
            "Epoch 3/5\n",
            "30/30 [==============================] - 1s 35ms/step - loss: 0.2456 - accuracy: 0.9169 - val_loss: 0.2999 - val_accuracy: 0.8811\n",
            "Epoch 4/5\n",
            "30/30 [==============================] - 1s 50ms/step - loss: 0.2017 - accuracy: 0.9324 - val_loss: 0.2775 - val_accuracy: 0.8884\n",
            "Epoch 5/5\n",
            "30/30 [==============================] - 1s 47ms/step - loss: 0.1703 - accuracy: 0.9421 - val_loss: 0.2800 - val_accuracy: 0.8859\n"
          ]
        }
      ]
    },
    {
      "cell_type": "code",
      "source": [
        "# Test model with the testing data - output: [loss, accuracy]\n",
        "results = model.evaluate(x_test, y_test)\n",
        "results"
      ],
      "metadata": {
        "colab": {
          "base_uri": "https://localhost:8080/"
        },
        "id": "imwQ_q5Lc269",
        "outputId": "8873897a-b1dc-423e-a8ae-cc9e877311b9"
      },
      "execution_count": 40,
      "outputs": [
        {
          "output_type": "stream",
          "name": "stdout",
          "text": [
            "782/782 [==============================] - 3s 4ms/step - loss: 0.2960 - accuracy: 0.8796\n"
          ]
        },
        {
          "output_type": "execute_result",
          "data": {
            "text/plain": [
              "[0.29603928327560425, 0.8795999884605408]"
            ]
          },
          "metadata": {},
          "execution_count": 40
        }
      ]
    },
    {
      "cell_type": "code",
      "source": [
        "# Use the model to predict the likelihood probability for a test sample #9045\n",
        "test_sample = x_test[9045].reshape(1, x_test.shape[1])\n",
        "model.predict(test_sample)\n"
      ],
      "metadata": {
        "colab": {
          "base_uri": "https://localhost:8080/"
        },
        "id": "uxY_8rWGdKf2",
        "outputId": "dd0e73d2-edec-4ade-8385-49169cd1e82c"
      },
      "execution_count": 56,
      "outputs": [
        {
          "output_type": "stream",
          "name": "stdout",
          "text": [
            "1/1 [==============================] - 0s 165ms/step\n"
          ]
        },
        {
          "output_type": "execute_result",
          "data": {
            "text/plain": [
              "array([[0.9154963]], dtype=float32)"
            ]
          },
          "metadata": {},
          "execution_count": 56
        }
      ]
    },
    {
      "cell_type": "markdown",
      "source": [
        "__________________________________________________\n",
        "This is the conclusion of a binomial classification neural network using binary crossentropy loss function and gradient descent optimization."
      ],
      "metadata": {
        "id": "b0BxXrbwneKZ"
      }
    }
  ]
}